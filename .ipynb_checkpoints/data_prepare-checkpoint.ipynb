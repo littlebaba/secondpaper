{
 "cells": [
  {
   "cell_type": "code",
   "execution_count": 1,
   "metadata": {},
   "outputs": [
    {
     "name": "stderr",
     "output_type": "stream",
     "text": [
      "Using TensorFlow backend.\n"
     ]
    }
   ],
   "source": [
    "from keras.preprocessing.image import ImageDataGenerator\n",
    "from keras.preprocessing import image\n",
    "import numpy as np\n",
    "import os\n",
    "import matplotlib.pyplot as plt\n",
    "%matplotlib inline"
   ]
  },
  {
   "cell_type": "code",
   "execution_count": 2,
   "metadata": {},
   "outputs": [],
   "source": [
    "X_PATH=r\"F:\\matlabPro\\imagefusion_noisy_lrr\\focus_images\\focus_images\"\n",
    "Y_PATH=r\"F:\\matlabPro\\imagefusion_noisy_lrr\\original_images\"\n",
    "AUG_PATH=r\"F:\\matlabPro\\imagefusion_noisy_lrr\\aug\"\n",
    "IMAGE_SHAPE=(64,64)"
   ]
  },
  {
   "cell_type": "code",
   "execution_count": 8,
   "metadata": {},
   "outputs": [],
   "source": [
    "def load_dataset():\n",
    "    \"\"\"返回x_left、x_right、y\"\"\"\n",
    "    \n",
    "    x_left=[]\n",
    "    x_right=[]\n",
    "    y=[]\n",
    "    \n",
    "    for x in sorted(os.listdir(X_PATH),key=lambda x:x.split(\"_\")[0][6:]):\n",
    "        img=image.load_img(os.path.join(X_PATH,x))\n",
    "        img=img.resize((64,64))\n",
    "        img=image.img_to_array(img)\n",
    "        if 'left' in x:\n",
    "            x_left.append(img)\n",
    "        elif 'right' in x:\n",
    "            x_right.append(img)\n",
    "    \n",
    "    for y_ in sorted(os.listdir(Y_PATH),key=lambda x:x.split(\"_\")[0][6:]):\n",
    "        img=image.load_img(os.path.join(Y_PATH,y_))\n",
    "        img=img.resize((64,64))\n",
    "        img=image.img_to_array(img)\n",
    "        y.append(img)\n",
    "    return np.array(x_left),np.array(x_right),np.array(y)\n",
    "\n",
    "def train_generate(batch_size,x_lf,x_rg,y_,aug_dict,lf_img_save_prefix=\"L\",\n",
    "                   rg_img_save_prefix=\"R\",y_img_prefix=\"O\",save_to_dir=None,seed=1):\n",
    "    \n",
    "    x_left_gen=ImageDataGenerator(**aug_dict)\n",
    "    x_right_gen=ImageDataGenerator(**aug_dict)\n",
    "    y_gen=ImageDataGenerator(**aug_dict)\n",
    "    \n",
    "    x_left_generator=x_left_gen.flow(\n",
    "        x_lf,\n",
    "        batch_size=batch_size,\n",
    "        seed=seed,\n",
    "        save_to_dir=save_to_dir,\n",
    "        save_prefix=lf_img_save_prefix)\n",
    "    \n",
    "    x_right_generator=x_right_gen.flow(\n",
    "        x_rg,\n",
    "        batch_size=batch_size,\n",
    "        seed=seed,\n",
    "        save_to_dir=save_to_dir,\n",
    "        save_prefix=rg_img_save_prefix)\n",
    "    \n",
    "    y_generator=y_gen.flow(\n",
    "        y_,\n",
    "        batch_size=batch_size,\n",
    "        seed=seed,\n",
    "        save_to_dir=save_to_dir,\n",
    "        save_prefix=y_img_prefix)\n",
    "    \n",
    "    train_generator=zip(x_left_generator,x_right_generator,y_generator)\n",
    "    for (x_left,x_right,y) in train_generator:\n",
    "        x_left=x_left/255\n",
    "        x_right=x_right/255\n",
    "        y=y/255\n",
    "        yield([x_left,x_right],y)"
   ]
  },
  {
   "cell_type": "code",
   "execution_count": 22,
   "metadata": {},
   "outputs": [],
   "source": [
    "x_lf,x_rg,y_=load_dataset()\n",
    "data_gen_args = dict(rotation_range=0.2,\n",
    "                    width_shift_range=0.05,\n",
    "                    height_shift_range=0.05,\n",
    "                    shear_range=0.05,\n",
    "                    zoom_range=0.05,\n",
    "                    horizontal_flip=True,\n",
    "                    fill_mode='nearest')\n",
    "gen=train_generate(2,x_lf,x_rg,y_,data_gen_args)"
   ]
  },
  {
   "cell_type": "code",
   "execution_count": 24,
   "metadata": {},
   "outputs": [],
   "source": []
  },
  {
   "cell_type": "code",
   "execution_count": null,
   "metadata": {},
   "outputs": [],
   "source": []
  }
 ],
 "metadata": {
  "kernelspec": {
   "display_name": "Python 3",
   "language": "python",
   "name": "python3"
  },
  "language_info": {
   "codemirror_mode": {
    "name": "ipython",
    "version": 3
   },
   "file_extension": ".py",
   "mimetype": "text/x-python",
   "name": "python",
   "nbconvert_exporter": "python",
   "pygments_lexer": "ipython3",
   "version": "3.6.7"
  }
 },
 "nbformat": 4,
 "nbformat_minor": 2
}
